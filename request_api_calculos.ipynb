{
 "cells": [
  {
   "cell_type": "code",
   "execution_count": 1,
   "id": "de812a2b",
   "metadata": {},
   "outputs": [],
   "source": [
    "from requests import post"
   ]
  },
  {
   "cell_type": "markdown",
   "id": "cbed3a84",
   "metadata": {},
   "source": [
    "### Adição"
   ]
  },
  {
   "cell_type": "markdown",
   "id": "8ff5b3cc",
   "metadata": {},
   "source": [
    "##### Variações de possíbilidades da operação de adição (independe de acentuação ou se maiúsculo ou minúsculo)"
   ]
  },
  {
   "cell_type": "markdown",
   "id": "1ed3bb1f",
   "metadata": {},
   "source": [
    "- Adição"
   ]
  },
  {
   "cell_type": "code",
   "execution_count": 2,
   "id": "ffdb8117",
   "metadata": {},
   "outputs": [],
   "source": [
    "resp = post(\"http://127.0.0.1:8000\", json={\"val_1\": 10, \"val_2\": 2, \"operacao\": \"adição\"})"
   ]
  },
  {
   "cell_type": "code",
   "execution_count": 3,
   "id": "728a8efe",
   "metadata": {},
   "outputs": [
    {
     "data": {
      "text/plain": [
       "'\"10.0 + 2.0 = 12.0\"'"
      ]
     },
     "execution_count": 3,
     "metadata": {},
     "output_type": "execute_result"
    }
   ],
   "source": [
    "resp.text"
   ]
  },
  {
   "cell_type": "markdown",
   "id": "b745a84b",
   "metadata": {},
   "source": [
    "- Soma"
   ]
  },
  {
   "cell_type": "code",
   "execution_count": 4,
   "id": "b8d57b89",
   "metadata": {},
   "outputs": [],
   "source": [
    "resp = post(\"http://127.0.0.1:8000\", json={\"val_1\": 10, \"val_2\": 2, \"operacao\": \"sOma\"})"
   ]
  },
  {
   "cell_type": "code",
   "execution_count": 5,
   "id": "d3b9ee79",
   "metadata": {},
   "outputs": [
    {
     "data": {
      "text/plain": [
       "'\"10.0 + 2.0 = 12.0\"'"
      ]
     },
     "execution_count": 5,
     "metadata": {},
     "output_type": "execute_result"
    }
   ],
   "source": [
    "resp.text"
   ]
  },
  {
   "cell_type": "markdown",
   "id": "0c35d979",
   "metadata": {},
   "source": [
    "- Mais"
   ]
  },
  {
   "cell_type": "code",
   "execution_count": 6,
   "id": "3f6db988",
   "metadata": {},
   "outputs": [],
   "source": [
    "resp = post(\"http://127.0.0.1:8000\", json={\"val_1\": 10, \"val_2\": 2, \"operacao\": \"mais\"})"
   ]
  },
  {
   "cell_type": "code",
   "execution_count": 7,
   "id": "97b61b6f",
   "metadata": {},
   "outputs": [
    {
     "data": {
      "text/plain": [
       "'\"10.0 + 2.0 = 12.0\"'"
      ]
     },
     "execution_count": 7,
     "metadata": {},
     "output_type": "execute_result"
    }
   ],
   "source": [
    "resp.text"
   ]
  },
  {
   "cell_type": "markdown",
   "id": "60e96b57",
   "metadata": {},
   "source": [
    "<br>"
   ]
  },
  {
   "cell_type": "markdown",
   "id": "f2cd9905",
   "metadata": {},
   "source": [
    "### Subtração"
   ]
  },
  {
   "cell_type": "markdown",
   "id": "4f6e9323",
   "metadata": {},
   "source": [
    "##### Variações de possíbilidades da operação de Subtração (independe de acentuação ou se maiúsculo ou minúsculo)"
   ]
  },
  {
   "cell_type": "markdown",
   "id": "e703de04",
   "metadata": {},
   "source": [
    "- Subtração"
   ]
  },
  {
   "cell_type": "code",
   "execution_count": 8,
   "id": "34bc9110",
   "metadata": {},
   "outputs": [],
   "source": [
    "resp = post(\"http://127.0.0.1:8000\", json={\"val_1\": 12, \"val_2\": 2, \"operacao\": \"subtração\"})"
   ]
  },
  {
   "cell_type": "code",
   "execution_count": 9,
   "id": "1eb90f1c",
   "metadata": {},
   "outputs": [
    {
     "data": {
      "text/plain": [
       "'\"12.0 - 2.0 = 10.0\"'"
      ]
     },
     "execution_count": 9,
     "metadata": {},
     "output_type": "execute_result"
    }
   ],
   "source": [
    "resp.text"
   ]
  },
  {
   "cell_type": "markdown",
   "id": "9e9baaf5",
   "metadata": {},
   "source": [
    "- Menos"
   ]
  },
  {
   "cell_type": "code",
   "execution_count": 10,
   "id": "4e269235",
   "metadata": {},
   "outputs": [],
   "source": [
    "resp = post(\"http://127.0.0.1:8000\", json={\"val_1\": 10, \"val_2\": 2, \"operacao\": \"Menos\"})"
   ]
  },
  {
   "cell_type": "code",
   "execution_count": 11,
   "id": "ae10062b",
   "metadata": {},
   "outputs": [
    {
     "data": {
      "text/plain": [
       "'\"10.0 - 2.0 = 8.0\"'"
      ]
     },
     "execution_count": 11,
     "metadata": {},
     "output_type": "execute_result"
    }
   ],
   "source": [
    "resp.text"
   ]
  },
  {
   "cell_type": "markdown",
   "id": "5cdaf3cc",
   "metadata": {},
   "source": [
    "<br>"
   ]
  },
  {
   "cell_type": "markdown",
   "id": "58f04fd9",
   "metadata": {},
   "source": [
    "### Multiplicação"
   ]
  },
  {
   "cell_type": "markdown",
   "id": "15ce69f6",
   "metadata": {},
   "source": [
    "##### Variações de possíbilidades da operação de Multiplicação (independe de acentuação ou se maiúsculo ou minúsculo)"
   ]
  },
  {
   "cell_type": "markdown",
   "id": "4172b5f6",
   "metadata": {},
   "source": [
    "- Multiplicação"
   ]
  },
  {
   "cell_type": "code",
   "execution_count": 13,
   "id": "2579d948",
   "metadata": {},
   "outputs": [],
   "source": [
    "resp = post(\"http://127.0.0.1:8000\", json={\"val_1\": 10, \"val_2\": 2, \"operacao\": \"multiplicação\"})"
   ]
  },
  {
   "cell_type": "code",
   "execution_count": 14,
   "id": "ee917a59",
   "metadata": {},
   "outputs": [
    {
     "data": {
      "text/plain": [
       "'\"10.0 x 2.0 = 20.0\"'"
      ]
     },
     "execution_count": 14,
     "metadata": {},
     "output_type": "execute_result"
    }
   ],
   "source": [
    "resp.text"
   ]
  },
  {
   "cell_type": "markdown",
   "id": "43cf5c4d",
   "metadata": {},
   "source": [
    "- Vezes"
   ]
  },
  {
   "cell_type": "code",
   "execution_count": 16,
   "id": "245f0020",
   "metadata": {},
   "outputs": [],
   "source": [
    "resp = post(\"http://127.0.0.1:8000\", json={\"val_1\": 10, \"val_2\": 2, \"operacao\": \"vezes\"})"
   ]
  },
  {
   "cell_type": "code",
   "execution_count": 17,
   "id": "b46a03ac",
   "metadata": {
    "scrolled": true
   },
   "outputs": [
    {
     "data": {
      "text/plain": [
       "'\"10.0 x 2.0 = 20.0\"'"
      ]
     },
     "execution_count": 17,
     "metadata": {},
     "output_type": "execute_result"
    }
   ],
   "source": [
    "resp.text"
   ]
  },
  {
   "cell_type": "markdown",
   "id": "fdae1a26",
   "metadata": {},
   "source": [
    "<br>"
   ]
  },
  {
   "cell_type": "markdown",
   "id": "3ffed8de",
   "metadata": {},
   "source": [
    "### Divisão"
   ]
  },
  {
   "cell_type": "markdown",
   "id": "9f81bb78",
   "metadata": {},
   "source": [
    "- Divisão por números diferentes de zero"
   ]
  },
  {
   "cell_type": "code",
   "execution_count": 18,
   "id": "2bc70670",
   "metadata": {},
   "outputs": [],
   "source": [
    "resp = post(\"http://127.0.0.1:8000\", json={\"val_1\": 10, \"val_2\": 2, \"operacao\": \"divisão\"})"
   ]
  },
  {
   "cell_type": "code",
   "execution_count": 19,
   "id": "9d90fe30",
   "metadata": {},
   "outputs": [
    {
     "data": {
      "text/plain": [
       "'\"10.0 / 2.0 = 5.0\"'"
      ]
     },
     "execution_count": 19,
     "metadata": {},
     "output_type": "execute_result"
    }
   ],
   "source": [
    "resp.text"
   ]
  },
  {
   "cell_type": "markdown",
   "id": "0dabcdbd",
   "metadata": {},
   "source": [
    "- Divisão por zero"
   ]
  },
  {
   "cell_type": "code",
   "execution_count": 20,
   "id": "02bd88f0",
   "metadata": {},
   "outputs": [],
   "source": [
    "resp = post(\"http://127.0.0.1:8000\", json={\"val_1\": 10, \"val_2\": 0, \"operacao\": \"divisão\"})"
   ]
  },
  {
   "cell_type": "code",
   "execution_count": 21,
   "id": "02020025",
   "metadata": {},
   "outputs": [
    {
     "data": {
      "text/plain": [
       "'\"Não existe divisão por 0\"'"
      ]
     },
     "execution_count": 21,
     "metadata": {},
     "output_type": "execute_result"
    }
   ],
   "source": [
    "resp.text"
   ]
  },
  {
   "cell_type": "markdown",
   "id": "b91c65ce",
   "metadata": {},
   "source": [
    "<br>"
   ]
  },
  {
   "cell_type": "markdown",
   "id": "0faab8d8",
   "metadata": {},
   "source": [
    "### Operação inexistente"
   ]
  },
  {
   "cell_type": "code",
   "execution_count": 22,
   "id": "cef4d57b",
   "metadata": {},
   "outputs": [],
   "source": [
    "resp = post(\"http://127.0.0.1:8000\", json={\"val_1\": 10, \"val_2\": 0, \"operacao\": \"Python\"})"
   ]
  },
  {
   "cell_type": "code",
   "execution_count": 23,
   "id": "c7b6e8ae",
   "metadata": {},
   "outputs": [
    {
     "data": {
      "text/plain": [
       "'\"Operação inválida!\"'"
      ]
     },
     "execution_count": 23,
     "metadata": {},
     "output_type": "execute_result"
    }
   ],
   "source": [
    "resp.text"
   ]
  }
 ],
 "metadata": {
  "kernelspec": {
   "display_name": "Python 3 (ipykernel)",
   "language": "python",
   "name": "python3"
  },
  "language_info": {
   "codemirror_mode": {
    "name": "ipython",
    "version": 3
   },
   "file_extension": ".py",
   "mimetype": "text/x-python",
   "name": "python",
   "nbconvert_exporter": "python",
   "pygments_lexer": "ipython3",
   "version": "3.8.12"
  }
 },
 "nbformat": 4,
 "nbformat_minor": 5
}
